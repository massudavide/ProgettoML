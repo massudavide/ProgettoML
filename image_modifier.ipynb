{
 "cells": [
  {
   "cell_type": "code",
   "execution_count": null,
   "metadata": {},
   "outputs": [],
   "source": [
    "# pip install colorcorrect"
   ]
  },
  {
   "cell_type": "code",
   "execution_count": null,
   "metadata": {},
   "outputs": [],
   "source": [
    "import numpy as np\n",
    "import cv2\n",
    "from matplotlib import pyplot as plt\n",
    "from PIL import Image\n",
    "import glob\n",
    "import re\n",
    "import colorcorrect.algorithm as cca\n",
    "from colorcorrect.util import from_pil, to_pil"
   ]
  },
  {
   "cell_type": "code",
   "execution_count": null,
   "metadata": {},
   "outputs": [],
   "source": [
    "# slit del dataset in train, test, val\n",
    "\n",
    "# import splitfolders\n",
    "# input_folder = '/home/davide/Documents/Progetto/dataset/food-101/images'\n",
    "# output = '/home/davide/Documents/Progetto/dataset/FoodSlitted'\n",
    "# splitfolders.ratio(input_folder, output, seed=42, ratio=(.6, .2, .2))"
   ]
  },
  {
   "cell_type": "code",
   "execution_count": null,
   "metadata": {},
   "outputs": [],
   "source": [
    "# resizer per le immagini\n",
    "\n",
    "# import glob\n",
    "# import re\n",
    "# from PIL import Image\n",
    "\n",
    "# for filename in glob.iglob(dir_food + '**/*/*/*.jpg', recursive=True):\n",
    "#     print(filename)\n",
    "#     image = Image.open(filename)\n",
    "#     image_name = re.split('/', filename)\n",
    "#     new_image = image.resize((img_height, img_width))\n",
    "#     new_image.save(filename)"
   ]
  },
  {
   "cell_type": "code",
   "execution_count": null,
   "metadata": {},
   "outputs": [],
   "source": [
    "image_path = '/home/davide/Documents/Progetto/dataset/food-101/images/apple_pie/3110084.jpg'\n",
    "image_path2 = '/home/davide/Documents/Progetto/dataset/food-101/images/apple_pie/3177727.jpg'\n",
    "hamburger = '/home/davide/Documents/Progetto/dataset/food-101/images/hamburger/40675.jpg'\n",
    "hamburger2 = '/home/davide/Documents/Progetto/dataset/food-101/images/hamburger/406359.jpg'\n",
    "hamburger3 = '/home/davide/Documents/Progetto/dataset/food-101/images/hamburger/639977.jpg'\n",
    "salmon = '/home/davide/Documents/Progetto/dataset/food-101/images/grilled_salmon/33378.jpg'\n",
    "salmon2 = '/home/davide/Documents/Progetto/dataset/food-101/images/grilled_salmon/63518.jpg'"
   ]
  },
  {
   "cell_type": "code",
   "execution_count": null,
   "metadata": {},
   "outputs": [],
   "source": [
    "def grey_world_histogram_equalization_img(image_path):\n",
    "\n",
    "    img = Image.open(image_path)\n",
    "    \n",
    "    # show original image\n",
    "    plt.imshow(img)\n",
    "    plt.show()\n",
    "    \n",
    "    img = to_pil(cca.grey_world(from_pil(img)))\n",
    "    rgb_img = np.array(img) \n",
    "    \n",
    "    # show image\n",
    "    plt.imshow(rgb_img)\n",
    "    plt.show()\n",
    "\n",
    "    # convert from RGB color-space to YCrCb\n",
    "    ycrcb_img = cv2.cvtColor(rgb_img, cv2.COLOR_BGR2YCrCb)\n",
    "\n",
    "    # equalize the histogram of the Y channel\n",
    "    ycrcb_img[:, :, 0] = cv2.equalizeHist(ycrcb_img[:, :, 0])\n",
    "\n",
    "    # convert back to RGB color-space from YCrCb\n",
    "    equalized_img = cv2.cvtColor(ycrcb_img, cv2.COLOR_YCrCb2BGR)\n",
    "    \n",
    "    # show image\n",
    "    plt.imshow(equalized_img)\n",
    "    plt.show()"
   ]
  },
  {
   "cell_type": "code",
   "execution_count": null,
   "metadata": {},
   "outputs": [],
   "source": [
    "def save_grey_world_histogram_equalization_img(image_path, path_to_save):\n",
    "\n",
    "    img = Image.open(image_path)\n",
    "    \n",
    "    # show original image\n",
    "#     plt.imshow(img)\n",
    "#     plt.show()\n",
    "    \n",
    "    img = to_pil(cca.grey_world(from_pil(img)))\n",
    "    rgb_img = np.array(img) \n",
    "    \n",
    "    # show image\n",
    "#     plt.imshow(rgb_img)\n",
    "#     plt.show()\n",
    "\n",
    "    # convert from RGB color-space to YCrCb\n",
    "    ycrcb_img = cv2.cvtColor(rgb_img, cv2.COLOR_BGR2YCrCb)\n",
    "\n",
    "    # equalize the histogram of the Y channel\n",
    "    ycrcb_img[:, :, 0] = cv2.equalizeHist(ycrcb_img[:, :, 0])\n",
    "\n",
    "    # convert back to RGB color-space from YCrCb\n",
    "    equalized_img = cv2.cvtColor(ycrcb_img, cv2.COLOR_YCrCb2BGR)\n",
    "    \n",
    "    # show image\n",
    "#     plt.imshow(equalized_img)\n",
    "#     plt.show()\n",
    "\n",
    "    # Using cv2.imwrite() method\n",
    "    # Saving the image\n",
    "    cv2.imwrite(path_to_save, equalized_img)"
   ]
  },
  {
   "cell_type": "code",
   "execution_count": null,
   "metadata": {},
   "outputs": [],
   "source": [
    "# dir_food = '/home/davide/Documents/Progetto/dataset/grey_hist_coversion'\n",
    "# for filename in glob.iglob(dir_food + '**/*/*/*.jpg', recursive=True):\n",
    "#     print(filename)\n",
    "# #     image_name = re.split('/', filename)\n",
    "# #     path = path_to_save + image_name[-3] + '/' + image_name[-2] + '/' + image_name[-1]\n",
    "# #     print(path)\n",
    "#     save_grey_world_histogram_equalization_img(filename, filename)"
   ]
  },
  {
   "cell_type": "code",
   "execution_count": null,
   "metadata": {},
   "outputs": [],
   "source": [
    "grey_world_histogram_equalization_img(image_path)"
   ]
  },
  {
   "cell_type": "code",
   "execution_count": null,
   "metadata": {},
   "outputs": [],
   "source": [
    "grey_world_histogram_equalization_img('/home/davide/Documents/Progetto/dataset/FoodSplitted/test/guacamole/3446253.jpg')"
   ]
  },
  {
   "cell_type": "code",
   "execution_count": null,
   "metadata": {},
   "outputs": [],
   "source": [
    "grey_world_histogram_equalization_img(hamburger3)"
   ]
  },
  {
   "cell_type": "code",
   "execution_count": null,
   "metadata": {},
   "outputs": [],
   "source": [
    "grey_world_histogram_equalization_img(salmon2)"
   ]
  }
 ],
 "metadata": {
  "@webio": {
   "lastCommId": null,
   "lastKernelId": null
  },
  "kernelspec": {
   "display_name": "Python 3.7.4 64-bit ('base': conda)",
   "language": "python",
   "name": "python37464bitbaseconda99500029fe664716a7581654489d902c"
  },
  "language_info": {
   "codemirror_mode": {
    "name": "ipython",
    "version": 3
   },
   "file_extension": ".py",
   "mimetype": "text/x-python",
   "name": "python",
   "nbconvert_exporter": "python",
   "pygments_lexer": "ipython3",
   "version": "3.7.4"
  }
 },
 "nbformat": 4,
 "nbformat_minor": 2
}
